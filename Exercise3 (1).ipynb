{
 "cells": [
  {
   "cell_type": "markdown",
   "metadata": {},
   "source": [
    "# Kuis Pandas"
   ]
  },
  {
   "cell_type": "markdown",
   "metadata": {},
   "source": [
    "** Import pandas as pd **"
   ]
  },
  {
   "cell_type": "code",
   "execution_count": 1,
   "metadata": {},
   "outputs": [],
   "source": [
    "import pandas as pd\n",
    "\n",
    "df = pd.read_csv (r'C:\\Users\\user\\Desktop\\pandas.csv')   #read the csv file (put 'r' before the path string to address any special characters in the path, such as '\\'). Don't forget to put the file name at the end of the path + \".csv\"\n",
    "print (df)"
   ]
  },
  {
   "cell_type": "markdown",
   "metadata": {},
   "source": [
    "** Tampilkan dari data dari file pandas.csv **"
   ]
  },
  {
   "cell_type": "code",
   "execution_count": 25,
   "metadata": {},
   "outputs": [
    {
     "data": {
      "text/html": [
       "<div>\n",
       "<style scoped>\n",
       "    .dataframe tbody tr th:only-of-type {\n",
       "        vertical-align: middle;\n",
       "    }\n",
       "\n",
       "    .dataframe tbody tr th {\n",
       "        vertical-align: top;\n",
       "    }\n",
       "\n",
       "    .dataframe thead th {\n",
       "        text-align: right;\n",
       "    }\n",
       "</style>\n",
       "<table border=\"1\" class=\"dataframe\">\n",
       "  <thead>\n",
       "    <tr style=\"text-align: right;\">\n",
       "      <th></th>\n",
       "      <th>bulan</th>\n",
       "      <th>stasiun_pengisian_bahanbakar</th>\n",
       "      <th>jenis_bahanbakar</th>\n",
       "      <th>jumlah_penjualan</th>\n",
       "      <th>penerimaan_pajak</th>\n",
       "    </tr>\n",
       "  </thead>\n",
       "  <tbody>\n",
       "    <tr>\n",
       "      <td>0</td>\n",
       "      <td>1</td>\n",
       "      <td>Pertamina</td>\n",
       "      <td>Bio Solar</td>\n",
       "      <td>55232675</td>\n",
       "      <td>16813838145</td>\n",
       "    </tr>\n",
       "    <tr>\n",
       "      <td>1</td>\n",
       "      <td>1</td>\n",
       "      <td>Pertamina</td>\n",
       "      <td>Solar</td>\n",
       "      <td>13531625</td>\n",
       "      <td>4631822667</td>\n",
       "    </tr>\n",
       "    <tr>\n",
       "      <td>2</td>\n",
       "      <td>1</td>\n",
       "      <td>Pertamina</td>\n",
       "      <td>Premium</td>\n",
       "      <td>148118500</td>\n",
       "      <td>46128488066</td>\n",
       "    </tr>\n",
       "    <tr>\n",
       "      <td>3</td>\n",
       "      <td>1</td>\n",
       "      <td>Pertamina</td>\n",
       "      <td>Pertalite</td>\n",
       "      <td>0</td>\n",
       "      <td>0</td>\n",
       "    </tr>\n",
       "    <tr>\n",
       "      <td>4</td>\n",
       "      <td>1</td>\n",
       "      <td>Pertamina</td>\n",
       "      <td>Pertamax</td>\n",
       "      <td>35750000</td>\n",
       "      <td>13041124794</td>\n",
       "    </tr>\n",
       "    <tr>\n",
       "      <td>...</td>\n",
       "      <td>...</td>\n",
       "      <td>...</td>\n",
       "      <td>...</td>\n",
       "      <td>...</td>\n",
       "      <td>...</td>\n",
       "    </tr>\n",
       "    <tr>\n",
       "      <td>151</td>\n",
       "      <td>12</td>\n",
       "      <td>Pertamina</td>\n",
       "      <td>Pertamax Racing</td>\n",
       "      <td>1000</td>\n",
       "      <td>2456522</td>\n",
       "    </tr>\n",
       "    <tr>\n",
       "      <td>152</td>\n",
       "      <td>12</td>\n",
       "      <td>Pertamina</td>\n",
       "      <td>BBG</td>\n",
       "      <td>66491</td>\n",
       "      <td>522521962</td>\n",
       "    </tr>\n",
       "    <tr>\n",
       "      <td>153</td>\n",
       "      <td>12</td>\n",
       "      <td>Total</td>\n",
       "      <td>Performance 92</td>\n",
       "      <td>808000</td>\n",
       "      <td>307719640</td>\n",
       "    </tr>\n",
       "    <tr>\n",
       "      <td>154</td>\n",
       "      <td>12</td>\n",
       "      <td>Total</td>\n",
       "      <td>Performance 95</td>\n",
       "      <td>184000</td>\n",
       "      <td>80281420</td>\n",
       "    </tr>\n",
       "    <tr>\n",
       "      <td>155</td>\n",
       "      <td>12</td>\n",
       "      <td>Total</td>\n",
       "      <td>Diesel</td>\n",
       "      <td>80000</td>\n",
       "      <td>34331008</td>\n",
       "    </tr>\n",
       "  </tbody>\n",
       "</table>\n",
       "<p>156 rows × 5 columns</p>\n",
       "</div>"
      ],
      "text/plain": [
       "     bulan stasiun_pengisian_bahanbakar jenis_bahanbakar  jumlah_penjualan  \\\n",
       "0        1                    Pertamina        Bio Solar          55232675   \n",
       "1        1                    Pertamina            Solar          13531625   \n",
       "2        1                    Pertamina          Premium         148118500   \n",
       "3        1                    Pertamina        Pertalite                 0   \n",
       "4        1                    Pertamina         Pertamax          35750000   \n",
       "..     ...                          ...              ...               ...   \n",
       "151     12                    Pertamina  Pertamax Racing              1000   \n",
       "152     12                    Pertamina              BBG             66491   \n",
       "153     12                        Total   Performance 92            808000   \n",
       "154     12                        Total   Performance 95            184000   \n",
       "155     12                        Total           Diesel             80000   \n",
       "\n",
       "     penerimaan_pajak  \n",
       "0         16813838145  \n",
       "1          4631822667  \n",
       "2         46128488066  \n",
       "3                   0  \n",
       "4         13041124794  \n",
       "..                ...  \n",
       "151           2456522  \n",
       "152         522521962  \n",
       "153         307719640  \n",
       "154          80281420  \n",
       "155          34331008  \n",
       "\n",
       "[156 rows x 5 columns]"
      ]
     },
     "execution_count": 25,
     "metadata": {},
     "output_type": "execute_result"
    }
   ],
   "source": [
    "df = pd.read_csv (r'C:\\Users\\user\\Desktop\\pandas.csv')"
   ]
  },
  {
   "cell_type": "markdown",
   "metadata": {},
   "source": [
    "** Tampilkan info dataframe menggunakan .info() **"
   ]
  },
  {
   "cell_type": "code",
   "execution_count": 4,
   "metadata": {},
   "outputs": [
    {
     "name": "stdout",
     "output_type": "stream",
     "text": [
      "<class 'pandas.core.frame.DataFrame'>\n",
      "RangeIndex: 156 entries, 0 to 155\n",
      "Data columns (total 5 columns):\n",
      "bulan                           156 non-null int64\n",
      "stasiun_pengisian_bahanbakar    156 non-null object\n",
      "jenis_bahanbakar                156 non-null object\n",
      "jumlah_penjualan                156 non-null int64\n",
      "penerimaan_pajak                156 non-null int64\n",
      "dtypes: int64(3), object(2)\n",
      "memory usage: 6.2+ KB\n"
     ]
    }
   ],
   "source": [
    "df.info(verbose=True)"
   ]
  },
  {
   "cell_type": "markdown",
   "metadata": {},
   "source": [
    "** Tampilkan rata - rata jumlah penjualan **"
   ]
  },
  {
   "cell_type": "code",
   "execution_count": 1,
   "metadata": {},
   "outputs": [
    {
     "name": "stdout",
     "output_type": "stream",
     "text": [
      "Rata - Rata jumlah_penjualan: 40434600.25782248\n"
     ]
    }
   ],
   "source": [
    "import pandas as pd\n",
    "df = pd.read_csv (r'C:\\Users\\user\\Desktop\\pandas.csv')\n",
    "std1 = df['jumlah_penjualan'].std()\n",
    "\n",
    "print ('Rata - Rata jumlah_penjualan: ' + str(std1))"
   ]
  },
  {
   "cell_type": "markdown",
   "metadata": {},
   "source": [
    "** Tampilkan maksimal dan minimal penerimaan_pajak **"
   ]
  },
  {
   "cell_type": "code",
   "execution_count": 9,
   "metadata": {},
   "outputs": [
    {
     "data": {
      "text/plain": [
       "49326967854"
      ]
     },
     "execution_count": 9,
     "metadata": {},
     "output_type": "execute_result"
    }
   ],
   "source": [
    "import pandas as pd\n",
    "df = pd.read_csv (r'C:\\Users\\user\\Desktop\\pandas.csv')\n",
    "std1 = df['penerimaan_pajak'].std()\n",
    "print ('Max penerimaan_pajak: ' + str(max1))"
   ]
  },
  {
   "cell_type": "code",
   "execution_count": 11,
   "metadata": {},
   "outputs": [
    {
     "data": {
      "text/plain": [
       "0"
      ]
     },
     "execution_count": 11,
     "metadata": {},
     "output_type": "execute_result"
    }
   ],
   "source": [
    "import pandas as pd\n",
    "df = pd.read_csv (r'C:\\Users\\user\\Desktop\\pandas.csv')\n",
    "std1 = df['penerimaan_pajak'].std()\n",
    "print ('Min penerimaan_pajak: ' + str(min1))"
   ]
  },
  {
   "cell_type": "markdown",
   "metadata": {},
   "source": [
    "** Tampilkan jenis_bahanbakar dari stasiun_pengisian_bahanbakar Pertamina **"
   ]
  },
  {
   "cell_type": "code",
   "execution_count": 2,
   "metadata": {},
   "outputs": [
    {
     "data": {
      "text/html": [
       "<div>\n",
       "<style scoped>\n",
       "    .dataframe tbody tr th:only-of-type {\n",
       "        vertical-align: middle;\n",
       "    }\n",
       "\n",
       "    .dataframe tbody tr th {\n",
       "        vertical-align: top;\n",
       "    }\n",
       "\n",
       "    .dataframe thead th {\n",
       "        text-align: right;\n",
       "    }\n",
       "</style>\n",
       "<table border=\"1\" class=\"dataframe\">\n",
       "  <thead>\n",
       "    <tr style=\"text-align: right;\">\n",
       "      <th></th>\n",
       "      <th></th>\n",
       "      <th>bulan</th>\n",
       "      <th>jumlah_penjualan</th>\n",
       "      <th>penerimaan_pajak</th>\n",
       "    </tr>\n",
       "    <tr>\n",
       "      <th>stasiun_pengisian_bahanbakar</th>\n",
       "      <th>jenis_bahanbakar</th>\n",
       "      <th></th>\n",
       "      <th></th>\n",
       "      <th></th>\n",
       "    </tr>\n",
       "  </thead>\n",
       "  <tbody>\n",
       "    <tr>\n",
       "      <th rowspan=\"10\" valign=\"top\">Pertamina</th>\n",
       "      <th>BBG</th>\n",
       "      <td>1</td>\n",
       "      <td>89565</td>\n",
       "      <td>477756129</td>\n",
       "    </tr>\n",
       "    <tr>\n",
       "      <th>Bio Solar</th>\n",
       "      <td>1</td>\n",
       "      <td>55232675</td>\n",
       "      <td>16813838145</td>\n",
       "    </tr>\n",
       "    <tr>\n",
       "      <th>Dexlite</th>\n",
       "      <td>1</td>\n",
       "      <td>0</td>\n",
       "      <td>0</td>\n",
       "    </tr>\n",
       "    <tr>\n",
       "      <th>Pertalite</th>\n",
       "      <td>1</td>\n",
       "      <td>0</td>\n",
       "      <td>0</td>\n",
       "    </tr>\n",
       "    <tr>\n",
       "      <th>Pertamax</th>\n",
       "      <td>1</td>\n",
       "      <td>35750000</td>\n",
       "      <td>13041124794</td>\n",
       "    </tr>\n",
       "    <tr>\n",
       "      <th>Pertamax Plus</th>\n",
       "      <td>1</td>\n",
       "      <td>2516000</td>\n",
       "      <td>1018416074</td>\n",
       "    </tr>\n",
       "    <tr>\n",
       "      <th>Pertamax Racing</th>\n",
       "      <td>1</td>\n",
       "      <td>0</td>\n",
       "      <td>0</td>\n",
       "    </tr>\n",
       "    <tr>\n",
       "      <th>Pertamina Dex</th>\n",
       "      <td>1</td>\n",
       "      <td>1092000</td>\n",
       "      <td>495904877</td>\n",
       "    </tr>\n",
       "    <tr>\n",
       "      <th>Premium</th>\n",
       "      <td>1</td>\n",
       "      <td>148118500</td>\n",
       "      <td>46128488066</td>\n",
       "    </tr>\n",
       "    <tr>\n",
       "      <th>Solar</th>\n",
       "      <td>1</td>\n",
       "      <td>13531625</td>\n",
       "      <td>4631822667</td>\n",
       "    </tr>\n",
       "    <tr>\n",
       "      <th rowspan=\"3\" valign=\"top\">Total</th>\n",
       "      <th>Diesel</th>\n",
       "      <td>1</td>\n",
       "      <td>80000</td>\n",
       "      <td>34174912</td>\n",
       "    </tr>\n",
       "    <tr>\n",
       "      <th>Performance 92</th>\n",
       "      <td>1</td>\n",
       "      <td>640000</td>\n",
       "      <td>233525282</td>\n",
       "    </tr>\n",
       "    <tr>\n",
       "      <th>Performance 95</th>\n",
       "      <td>1</td>\n",
       "      <td>120000</td>\n",
       "      <td>48700405</td>\n",
       "    </tr>\n",
       "  </tbody>\n",
       "</table>\n",
       "</div>"
      ],
      "text/plain": [
       "                                               bulan  jumlah_penjualan  \\\n",
       "stasiun_pengisian_bahanbakar jenis_bahanbakar                            \n",
       "Pertamina                    BBG                   1             89565   \n",
       "                             Bio Solar             1          55232675   \n",
       "                             Dexlite               1                 0   \n",
       "                             Pertalite             1                 0   \n",
       "                             Pertamax              1          35750000   \n",
       "                             Pertamax Plus         1           2516000   \n",
       "                             Pertamax Racing       1                 0   \n",
       "                             Pertamina Dex         1           1092000   \n",
       "                             Premium               1         148118500   \n",
       "                             Solar                 1          13531625   \n",
       "Total                        Diesel                1             80000   \n",
       "                             Performance 92        1            640000   \n",
       "                             Performance 95        1            120000   \n",
       "\n",
       "                                               penerimaan_pajak  \n",
       "stasiun_pengisian_bahanbakar jenis_bahanbakar                    \n",
       "Pertamina                    BBG                      477756129  \n",
       "                             Bio Solar              16813838145  \n",
       "                             Dexlite                          0  \n",
       "                             Pertalite                        0  \n",
       "                             Pertamax               13041124794  \n",
       "                             Pertamax Plus           1018416074  \n",
       "                             Pertamax Racing                  0  \n",
       "                             Pertamina Dex            495904877  \n",
       "                             Premium                46128488066  \n",
       "                             Solar                   4631822667  \n",
       "Total                        Diesel                    34174912  \n",
       "                             Performance 92           233525282  \n",
       "                             Performance 95            48700405  "
      ]
     },
     "execution_count": 2,
     "metadata": {},
     "output_type": "execute_result"
    }
   ],
   "source": [
    "import pandas as pd \n",
    "df = pd.read_csv (r'C:\\Users\\user\\Desktop\\pandas.csv')\n",
    "\n",
    "gkk = df.groupby (['stasiun_pengisian_bahanbakar', 'jenis_bahanbakar'])\n",
    "\n",
    "gkk.first ()"
   ]
  },
  {
   "cell_type": "markdown",
   "metadata": {},
   "source": [
    "** Tampilkan data yang penerimaan_pajaknya terbesar **"
   ]
  },
  {
   "cell_type": "code",
   "execution_count": 32,
   "metadata": {},
   "outputs": [
    {
     "data": {
      "text/html": [
       "<div>\n",
       "<style scoped>\n",
       "    .dataframe tbody tr th:only-of-type {\n",
       "        vertical-align: middle;\n",
       "    }\n",
       "\n",
       "    .dataframe tbody tr th {\n",
       "        vertical-align: top;\n",
       "    }\n",
       "\n",
       "    .dataframe thead th {\n",
       "        text-align: right;\n",
       "    }\n",
       "</style>\n",
       "<table border=\"1\" class=\"dataframe\">\n",
       "  <thead>\n",
       "    <tr style=\"text-align: right;\">\n",
       "      <th></th>\n",
       "      <th>bulan</th>\n",
       "      <th>stasiun_pengisian_bahanbakar</th>\n",
       "      <th>jenis_bahanbakar</th>\n",
       "      <th>jumlah_penjualan</th>\n",
       "      <th>penerimaan_pajak</th>\n",
       "    </tr>\n",
       "  </thead>\n",
       "  <tbody>\n",
       "    <tr>\n",
       "      <td>54</td>\n",
       "      <td>5</td>\n",
       "      <td>Pertamina</td>\n",
       "      <td>Premium</td>\n",
       "      <td>152646150</td>\n",
       "      <td>49326967854</td>\n",
       "    </tr>\n",
       "  </tbody>\n",
       "</table>\n",
       "</div>"
      ],
      "text/plain": [
       "    bulan stasiun_pengisian_bahanbakar jenis_bahanbakar  jumlah_penjualan  \\\n",
       "54      5                    Pertamina          Premium         152646150   \n",
       "\n",
       "    penerimaan_pajak  \n",
       "54       49326967854  "
      ]
     },
     "execution_count": 32,
     "metadata": {},
     "output_type": "execute_result"
    }
   ],
   "source": [
    "import pandas as pd\n",
    "df = pd.read_csv (r'C:\\Users\\user\\Desktop\\pandas.csv')\n",
    "max1 = df['penerimaan_pajak'].max()\n",
    "max2 = df['bulan'].max()\n",
    "max3 = df['jumlah_penjualan'].max()\n",
    "\n",
    "print ('Max Penerimaan Pajak : ' + str(max1))\n",
    "print ('Bulan: ' + str(max2))\n",
    "print ('Max Jumlah Penjualan : ' + str(max3))\n"
   ]
  },
  {
   "cell_type": "markdown",
   "metadata": {},
   "source": [
    "** Tampilkan data rata - rata jumlah_penjualan dan penerimaan_pajak perbulan **"
   ]
  },
  {
   "cell_type": "code",
   "execution_count": 35,
   "metadata": {},
   "outputs": [
    {
     "data": {
      "text/html": [
       "<div>\n",
       "<style scoped>\n",
       "    .dataframe tbody tr th:only-of-type {\n",
       "        vertical-align: middle;\n",
       "    }\n",
       "\n",
       "    .dataframe tbody tr th {\n",
       "        vertical-align: top;\n",
       "    }\n",
       "\n",
       "    .dataframe thead th {\n",
       "        text-align: right;\n",
       "    }\n",
       "</style>\n",
       "<table border=\"1\" class=\"dataframe\">\n",
       "  <thead>\n",
       "    <tr style=\"text-align: right;\">\n",
       "      <th></th>\n",
       "      <th>jumlah_penjualan</th>\n",
       "      <th>penerimaan_pajak</th>\n",
       "    </tr>\n",
       "    <tr>\n",
       "      <th>bulan</th>\n",
       "      <th></th>\n",
       "      <th></th>\n",
       "    </tr>\n",
       "  </thead>\n",
       "  <tbody>\n",
       "    <tr>\n",
       "      <td>1</td>\n",
       "      <td>1.978234e+07</td>\n",
       "      <td>6.378750e+09</td>\n",
       "    </tr>\n",
       "    <tr>\n",
       "      <td>2</td>\n",
       "      <td>1.807754e+07</td>\n",
       "      <td>5.498319e+09</td>\n",
       "    </tr>\n",
       "    <tr>\n",
       "      <td>3</td>\n",
       "      <td>2.050384e+07</td>\n",
       "      <td>6.497834e+09</td>\n",
       "    </tr>\n",
       "    <tr>\n",
       "      <td>4</td>\n",
       "      <td>1.970387e+07</td>\n",
       "      <td>6.595338e+09</td>\n",
       "    </tr>\n",
       "    <tr>\n",
       "      <td>5</td>\n",
       "      <td>2.051530e+07</td>\n",
       "      <td>6.873613e+09</td>\n",
       "    </tr>\n",
       "    <tr>\n",
       "      <td>6</td>\n",
       "      <td>1.990238e+07</td>\n",
       "      <td>6.703365e+09</td>\n",
       "    </tr>\n",
       "    <tr>\n",
       "      <td>7</td>\n",
       "      <td>1.794975e+07</td>\n",
       "      <td>6.068822e+09</td>\n",
       "    </tr>\n",
       "    <tr>\n",
       "      <td>8</td>\n",
       "      <td>2.105408e+07</td>\n",
       "      <td>7.100888e+09</td>\n",
       "    </tr>\n",
       "    <tr>\n",
       "      <td>9</td>\n",
       "      <td>2.022046e+07</td>\n",
       "      <td>6.797098e+09</td>\n",
       "    </tr>\n",
       "    <tr>\n",
       "      <td>10</td>\n",
       "      <td>2.066132e+07</td>\n",
       "      <td>6.869025e+09</td>\n",
       "    </tr>\n",
       "    <tr>\n",
       "      <td>11</td>\n",
       "      <td>1.991948e+07</td>\n",
       "      <td>6.607325e+09</td>\n",
       "    </tr>\n",
       "    <tr>\n",
       "      <td>12</td>\n",
       "      <td>2.046425e+07</td>\n",
       "      <td>6.782211e+09</td>\n",
       "    </tr>\n",
       "  </tbody>\n",
       "</table>\n",
       "</div>"
      ],
      "text/plain": [
       "       jumlah_penjualan  penerimaan_pajak\n",
       "bulan                                    \n",
       "1          1.978234e+07      6.378750e+09\n",
       "2          1.807754e+07      5.498319e+09\n",
       "3          2.050384e+07      6.497834e+09\n",
       "4          1.970387e+07      6.595338e+09\n",
       "5          2.051530e+07      6.873613e+09\n",
       "6          1.990238e+07      6.703365e+09\n",
       "7          1.794975e+07      6.068822e+09\n",
       "8          2.105408e+07      7.100888e+09\n",
       "9          2.022046e+07      6.797098e+09\n",
       "10         2.066132e+07      6.869025e+09\n",
       "11         1.991948e+07      6.607325e+09\n",
       "12         2.046425e+07      6.782211e+09"
      ]
     },
     "execution_count": 35,
     "metadata": {},
     "output_type": "execute_result"
    }
   ],
   "source": [
    "import pandas as pd\n",
    "df = pd.read_csv (r'C:\\Users\\user\\Desktop\\pandas.csv')\n",
    "\n",
    "df.describe()"
   ]
  },
  {
   "cell_type": "markdown",
   "metadata": {},
   "source": [
    "** Tampilkan stasiun_pengisian_bahanbakar apa saja yang ada di dataframe **"
   ]
  },
  {
   "cell_type": "code",
   "execution_count": 52,
   "metadata": {},
   "outputs": [
    {
     "data": {
      "text/plain": [
       "array(['Pertamina', 'Total'], dtype=object)"
      ]
     },
     "execution_count": 52,
     "metadata": {},
     "output_type": "execute_result"
    }
   ],
   "source": [
    "import pandas as pd\n",
    "df = pd.read_csv (r'C:\\Users\\user\\Desktop\\pandas.csv')\n",
    "\n",
    "df.to_numpy()[0]"
   ]
  },
  {
   "cell_type": "markdown",
   "metadata": {},
   "source": [
    "** Tampilkan berapa banyak jenis_bahanbakar yang ada di dataframe **"
   ]
  },
  {
   "cell_type": "code",
   "execution_count": 39,
   "metadata": {},
   "outputs": [
    {
     "data": {
      "text/plain": [
       "13"
      ]
     },
     "execution_count": 39,
     "metadata": {},
     "output_type": "execute_result"
    }
   ],
   "source": [
    "import pandas as pd\n",
    "df = pd.read_csv (r'C:\\Users\\user\\Desktop\\pandas.csv')\n",
    "count1 = df['jenis_bahanbakar'].count()\n",
    "\n",
    "print ('Jenis Bahan Bakar : ' + str(count1))"
   ]
  },
  {
   "cell_type": "markdown",
   "metadata": {},
   "source": [
    "** Tampilkan jumlah pertamina pada stasiun_pengisian_bahanbakar di bulan ke 1 **"
   ]
  },
  {
   "cell_type": "code",
   "execution_count": 51,
   "metadata": {},
   "outputs": [
    {
     "data": {
      "text/plain": [
       "10"
      ]
     },
     "execution_count": 51,
     "metadata": {},
     "output_type": "execute_result"
    }
   ],
   "source": [
    "import pandas as pd\n",
    "df = pd.read_csv (r'C:\\Users\\user\\Desktop\\pandas.csv')\n",
    "count1 = df['stasiun_pengisian_bahanbakar'].count()\n",
    "\n",
    "print ('stasiun Bahan Bakar : ' + str(count1))"
   ]
  },
  {
   "cell_type": "code",
   "execution_count": null,
   "metadata": {},
   "outputs": [],
   "source": []
  }
 ],
 "metadata": {
  "kernelspec": {
   "display_name": "Python 3 (ipykernel)",
   "language": "python",
   "name": "python3"
  },
  "language_info": {
   "codemirror_mode": {
    "name": "ipython",
    "version": 3
   },
   "file_extension": ".py",
   "mimetype": "text/x-python",
   "name": "python",
   "nbconvert_exporter": "python",
   "pygments_lexer": "ipython3",
   "version": "3.8.12"
  }
 },
 "nbformat": 4,
 "nbformat_minor": 2
}
